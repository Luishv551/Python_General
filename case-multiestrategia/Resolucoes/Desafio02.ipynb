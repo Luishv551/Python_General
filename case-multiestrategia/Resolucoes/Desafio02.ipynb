{
 "cells": [
  {
   "cell_type": "markdown",
   "metadata": {},
   "source": [
    "# Pergunta 1: Qual FII negociou o maior volume em um único dia?"
   ]
  },
  {
   "cell_type": "code",
   "execution_count": 1,
   "metadata": {},
   "outputs": [
    {
     "name": "stdout",
     "output_type": "stream",
     "text": [
      "FII com maior volume negociado: BTLG11\n",
      "Data: 15/03/2024\n",
      "Volume negociado: R$ 219,392,617.08\n"
     ]
    }
   ],
   "source": [
    "import pandas as pd\n",
    "\n",
    "# Altere aqui o caminho do arquivo \"negociacao_fiis\" para rodar o codigo\n",
    "FILE_PATH = r'C:\\Users\\luish\\OneDrive\\Área de Trabalho\\Python Projetos\\case-multiestrategia\\dados\\01_cleaned_data\\negociacao_fiis.xlsx'\n",
    "\n",
    "def carregar_dados_negociacao():\n",
    "    try:\n",
    "        df_negociacao = pd.read_excel(FILE_PATH)\n",
    "    except FileNotFoundError as e:\n",
    "        raise FileNotFoundError(f\"Arquivo não encontrado: {e}\")\n",
    "\n",
    "    df_negociacao['dt_pregao'] = pd.to_datetime(df_negociacao['dt_pregao'], dayfirst=True)\n",
    "    return df_negociacao\n",
    "\n",
    "# Função para encontrar o FII com maior volume negociado em um único dia\n",
    "def encontrar_fii_maior_volume(df):\n",
    "    max_row = df.loc[df['volume_negociado'].idxmax()]\n",
    "    return max_row['cod_negociacao_papel'], max_row['dt_pregao'], max_row['volume_negociado']\n",
    "\n",
    "df_negociacao = carregar_dados_negociacao()\n",
    "fii_max, date_max, volume_max = encontrar_fii_maior_volume(df_negociacao)\n",
    "\n",
    "print(f\"FII com maior volume negociado: {fii_max}\")\n",
    "print(f\"Data: {date_max.strftime('%d/%m/%Y')}\")\n",
    "print(f\"Volume negociado: R$ {volume_max:,.2f}\")\n"
   ]
  },
  {
   "cell_type": "markdown",
   "metadata": {},
   "source": [
    "# Pergunta 2: Em qual dia de 2024 tivemos o maior volume negociado por FIIs? Qual foi esse volume?"
   ]
  },
  {
   "cell_type": "code",
   "execution_count": 2,
   "metadata": {},
   "outputs": [
    {
     "name": "stdout",
     "output_type": "stream",
     "text": [
      "Dia com maior volume total negociado: 20/09/2024\n",
      "Volume total negociado: R$ 973.852.736,23\n"
     ]
    }
   ],
   "source": [
    "# Filtrar e encontrar o dia com maior volume total negociado em 2024\n",
    "def encontrar_maior_volume(df):\n",
    "    df_2024 = df[df['dt_pregao'].dt.year == 2024]  # Filtrar apenas registros de 2024 para se adequar a pergunta, caso a base tivesse mais anos\n",
    "    daily_volume = df_2024.groupby('dt_pregao')['volume_negociado'].sum()\n",
    "    max_daily_date = daily_volume.idxmax()\n",
    "    max_daily_volume = daily_volume.max()\n",
    "    return max_daily_date, max_daily_volume\n",
    "\n",
    "max_daily_date, max_daily_volume = encontrar_maior_volume(df_negociacao)\n",
    "\n",
    "print(f\"Dia com maior volume total negociado: {max_daily_date.strftime('%d/%m/%Y')}\")\n",
    "print(f\"Volume total negociado: R$ {max_daily_volume:,.2f}\".replace(',', 'X').replace('.', ',').replace('X', '.'))\n"
   ]
  },
  {
   "cell_type": "markdown",
   "metadata": {},
   "source": [
    "# Pergunta 3: Qual o volume negociado pelo IFIX em cada mês de 2024?"
   ]
  },
  {
   "cell_type": "code",
   "execution_count": 3,
   "metadata": {},
   "outputs": [
    {
     "name": "stdout",
     "output_type": "stream",
     "text": [
      "\n",
      "Volume negociado pelo IFIX em cada mês de 2024:\n",
      "01/2024: R$ 5.778.284.556,55\n",
      "02/2024: R$ 5.521.304.181,15\n",
      "03/2024: R$ 5.600.778.185,72\n",
      "04/2024: R$ 5.926.781.382,37\n",
      "05/2024: R$ 5.927.519.243,75\n",
      "06/2024: R$ 5.840.800.301,04\n",
      "07/2024: R$ 6.157.876.737,25\n",
      "08/2024: R$ 5.579.931.091,52\n",
      "09/2024: R$ 6.526.389.776,50\n",
      "10/2024: R$ 7.133.783.943,50\n",
      "11/2024: R$ 5.755.659.888,66\n",
      "12/2024: R$ 7.067.464.772,93\n"
     ]
    }
   ],
   "source": [
    "IFIX_FILE_PATH = r'C:\\Users\\luish\\OneDrive\\Área de Trabalho\\Python Projetos\\case-multiestrategia\\dados\\01_cleaned_data\\carteira_ifix.xlsx'\n",
    "\n",
    "def carregar_dados_ifix():\n",
    "    df_ifix = pd.read_excel(IFIX_FILE_PATH)\n",
    "    df_ifix['dt_pregao'] = pd.to_datetime(df_ifix['dt_pregao'], dayfirst=True)\n",
    "    return df_ifix\n",
    "\n",
    "def calcular_volume_ifix_por_mes(df_negociacao, df_ifix):\n",
    "\n",
    "    \"\"\"\n",
    "    O merge com 'dt_pregao' faz a verificação diária da composição do IFIX.\n",
    "    Fiz desse modo pois um FII pode entrar ou sair do índice em qualquer dia do mês.\n",
    "    Se fosse apenas um agrupamento mensal, teriamos o erro de considerar o volume de ativos em dias em que eles não faziam parte do índice.\n",
    "    \n",
    "    \"\"\"\n",
    "\n",
    "    df_negociacao = df_negociacao.copy()\n",
    "    df_negociacao['dt_pregao'] = pd.to_datetime(df_negociacao['dt_pregao'])\n",
    "    df_negociacao['mes_ano'] = df_negociacao['dt_pregao'].dt.strftime('%m/%Y')\n",
    "    \n",
    "    df_volumes = (\n",
    "        df_negociacao\n",
    "        .merge(\n",
    "            df_ifix[['dt_pregao', 'ticker']],\n",
    "            left_on=['dt_pregao', 'cod_negociacao_papel'],\n",
    "            right_on=['dt_pregao', 'ticker'],\n",
    "            how='inner'\n",
    "        )\n",
    "        .groupby('mes_ano')['volume_negociado']\n",
    "        .sum()\n",
    "        .to_dict()\n",
    "    )\n",
    "    \n",
    "    return df_volumes\n",
    "# Carrega dados e calcula volumes\n",
    "df_ifix = carregar_dados_ifix()\n",
    "monthly_ifix_volume = calcular_volume_ifix_por_mes(df_negociacao, df_ifix)\n",
    "\n",
    "# Imprime resultados\n",
    "print(\"\\nVolume negociado pelo IFIX em cada mês de 2024:\")\n",
    "for month, volume in monthly_ifix_volume.items():\n",
    "    formatted_volume = f\"{volume:,.2f}\".replace(\",\", \"X\").replace(\".\", \",\").replace(\"X\", \".\")\n",
    "    print(f\"{month}: R$ {formatted_volume}\")"
   ]
  },
  {
   "cell_type": "markdown",
   "metadata": {},
   "source": [
    "# Pergunta 4: No dia de maior volume negociado, qual porcentagem desse volume foi proveniente dos fundos que compõem o IFIX?"
   ]
  },
  {
   "cell_type": "code",
   "execution_count": 4,
   "metadata": {},
   "outputs": [
    {
     "name": "stdout",
     "output_type": "stream",
     "text": [
      "\n",
      "No dia 20/09/2024, 89.84% do volume negociado veio dos FIIs que compõem o IFIX.\n"
     ]
    }
   ],
   "source": [
    "# Calcular a porcentagem do volume dos FIIs do IFIX\n",
    "def calcular_percentual_ifix(df_negociacao, df_ifix, max_daily_date, max_daily_volume):\n",
    "    df_max_day = df_negociacao[df_negociacao['dt_pregao'] == max_daily_date]\n",
    "    df_ifix_day = df_ifix[df_ifix['dt_pregao'] == max_daily_date]\n",
    "    ifix_fiis = df_ifix_day['ticker'].unique()\n",
    "    ifix_volume = df_max_day[df_max_day['cod_negociacao_papel'].isin(ifix_fiis)]['volume_negociado'].sum()\n",
    "    return (ifix_volume / max_daily_volume) * 100\n",
    "\n",
    "df_ifix = carregar_dados_ifix()\n",
    "ifix_percentage = calcular_percentual_ifix(df_negociacao, df_ifix, max_daily_date, max_daily_volume)\n",
    "\n",
    "print(f\"\\nNo dia {max_daily_date.strftime('%d/%m/%Y')}, {ifix_percentage:.2f}% do volume negociado veio dos FIIs que compõem o IFIX.\")\n"
   ]
  }
 ],
 "metadata": {
  "kernelspec": {
   "display_name": "Python 3",
   "language": "python",
   "name": "python3"
  },
  "language_info": {
   "codemirror_mode": {
    "name": "ipython",
    "version": 3
   },
   "file_extension": ".py",
   "mimetype": "text/x-python",
   "name": "python",
   "nbconvert_exporter": "python",
   "pygments_lexer": "ipython3",
   "version": "3.12.0"
  }
 },
 "nbformat": 4,
 "nbformat_minor": 2
}
