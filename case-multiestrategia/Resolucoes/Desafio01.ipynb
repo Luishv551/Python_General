{
 "cells": [
  {
   "cell_type": "markdown",
   "metadata": {},
   "source": [
    "# Consolidação de Dados IFIX"
   ]
  },
  {
   "cell_type": "markdown",
   "metadata": {},
   "source": [
    "## Importação das bibliotecas necessárias"
   ]
  },
  {
   "cell_type": "code",
   "execution_count": 1,
   "metadata": {},
   "outputs": [],
   "source": [
    "import os\n",
    "import pandas as pd\n",
    "import logging\n",
    "from datetime import datetime"
   ]
  },
  {
   "cell_type": "markdown",
   "metadata": {},
   "source": [
    "## Configuração dos diretórios e do logging"
   ]
  },
  {
   "cell_type": "code",
   "execution_count": 2,
   "metadata": {},
   "outputs": [],
   "source": [
    "# Configuração de diretórios e arquivos\n",
    "BASE_DIR = r'C:\\Users\\luish\\OneDrive\\Área de Trabalho\\Python Projetos\\case-multiestrategia\\dados\\00_raw_data'\n",
    "OUTPUT_DIR = os.path.join(BASE_DIR, 'Desafio 01')\n",
    "OUTPUT_FILE = os.path.join(OUTPUT_DIR, 'arquivo_final.xlsx')\n",
    "LOG_FILE = os.path.join(OUTPUT_DIR, 'processamento.log')\n",
    "\n",
    "if not os.path.exists(OUTPUT_DIR):\n",
    "    os.mkdir(OUTPUT_DIR)\n",
    "\n",
    "logging.basicConfig(\n",
    "    filename=LOG_FILE,\n",
    "    level=logging.INFO,\n",
    "    format='%(asctime)s - %(levelname)s - %(message)s'\n",
    ")\n",
    "logging.info('Iniciando processo de consolidação')"
   ]
  },
  {
   "cell_type": "markdown",
   "metadata": {},
   "source": [
    "## Funções de processamento"
   ]
  },
  {
   "cell_type": "code",
   "execution_count": 3,
   "metadata": {},
   "outputs": [],
   "source": [
    "def extract_date_from_filename(filename):\n",
    "    try:\n",
    "        date_part = filename.split('_')[1].replace('.csv', '')\n",
    "        return datetime.strptime(date_part, '%d-%m-%Y').date()\n",
    "    except Exception as e:\n",
    "        logging.error(f'Erro na extração de data: {filename} - {e}')\n",
    "        return None"
   ]
  },
  {
   "cell_type": "code",
   "execution_count": 4,
   "metadata": {},
   "outputs": [],
   "source": [
    "def consolidate_csv_files():\n",
    "    all_data = []\n",
    "    error_count = 0\n",
    "\n",
    "    for file in os.listdir(BASE_DIR):\n",
    "        if file.startswith('IFIXDia_') and file.endswith('.csv'):\n",
    "            filepath = os.path.join(BASE_DIR, file)\n",
    "            logging.info(f'Processando: {filepath}')\n",
    "            \n",
    "            try:\n",
    "                df = pd.read_csv(filepath, skiprows=1)\n",
    "                \n",
    "                if 'Total' in df.values:\n",
    "                    df = df[df.iloc[:, 0] != 'Total']\n",
    "\n",
    "                # Tratamento específico para Part. (%)\n",
    "                if 'Part. (%)' in df.columns:\n",
    "                    def fix_number(x):\n",
    "                        num = x / 100\n",
    "                        # Exceção específica para números que terminam em 7 (como 0.00207999999999997)\n",
    "                        if str(num).endswith('7'):\n",
    "                            return num\n",
    "                        # Para todos os outros casos, aplica o arredondamento padrão\n",
    "                        return float(f\"{num:.6f}\")  # Força exatamente 6 casas decimais\n",
    "                    \n",
    "                    df['Part. (%)'] = df['Part. (%)'].apply(fix_number)\n",
    "\n",
    "                date = extract_date_from_filename(file)\n",
    "                if date:\n",
    "                    df['Data'] = date\n",
    "                    all_data.append(df)\n",
    "                else:\n",
    "                    logging.warning(f'Formato de data inválido: {file}')\n",
    "\n",
    "            except Exception as e:\n",
    "                logging.error(f'Erro no processamento: {file} - {e}')\n",
    "                error_count += 1\n",
    "\n",
    "    if all_data:\n",
    "        final_df = pd.concat(all_data, ignore_index=True)\n",
    "\n",
    "        if 'Cãdigo' in final_df.columns:\n",
    "            final_df.rename(columns={'Cãdigo': 'Codigo'}, inplace=True)\n",
    "\n",
    "        final_df.to_excel(OUTPUT_FILE, index=False, sheet_name='Dados_IFIX')\n",
    "        \n",
    "        logging.info(f'Dados consolidados com sucesso: {OUTPUT_FILE}')\n",
    "        print(f'Processamento concluído. Arquivo salvo: {OUTPUT_FILE}')\n",
    "        if error_count > 0:\n",
    "            print(f'Atenção: {error_count} erro(s) encontrado(s). Verifique o log.')\n",
    "    else:\n",
    "        logging.warning('Nenhum dado consolidado')\n",
    "        print('Erro: Nenhum dado consolidado')"
   ]
  },
  {
   "cell_type": "markdown",
   "metadata": {},
   "source": [
    "## Execução do processo"
   ]
  },
  {
   "cell_type": "code",
   "execution_count": 5,
   "metadata": {},
   "outputs": [
    {
     "name": "stdout",
     "output_type": "stream",
     "text": [
      "Processamento concluído. Arquivo salvo: C:\\Users\\luish\\OneDrive\\Área de Trabalho\\Python Projetos\\case-multiestrategia\\dados\\00_raw_data\\Desafio 01\\arquivo_final.xlsx\n"
     ]
    }
   ],
   "source": [
    "if __name__ == '__main__':\n",
    "    consolidate_csv_files()"
   ]
  }
 ],
 "metadata": {
  "kernelspec": {
   "display_name": "Python 3",
   "language": "python",
   "name": "python3"
  },
  "language_info": {
   "codemirror_mode": {
    "name": "ipython",
    "version": 3
   },
   "file_extension": ".py",
   "mimetype": "text/x-python",
   "name": "python",
   "nbconvert_exporter": "python",
   "pygments_lexer": "ipython3",
   "version": "3.12.0"
  }
 },
 "nbformat": 4,
 "nbformat_minor": 4
}
