{
 "cells": [
  {
   "cell_type": "code",
   "execution_count": null,
   "id": "81ff1ab8",
   "metadata": {},
   "outputs": [],
   "source": [
    "import matplotlib.pyplot as plt\n",
    "import numpy as np\n",
    "\n",
    "def calcular_lucro(p):\n",
    "    lucro = -2 * p**2 + 50.4 * p - 10\n",
    "    return lucro\n",
    "\n",
    "# Intervalo de valores de p\n",
    "p_valores = np.linspace(0, 25, 100)  # Escolha um intervalo apropriado para o eixo x\n",
    "\n",
    "# Calcular o lucro para cada valor de p\n",
    "lucro_valores = [calcular_lucro(p) for p in p_valores]\n",
    "\n",
    "# Plotagem do gráfico\n",
    "plt.figure(figsize=(8, 6))\n",
    "plt.plot(p_valores, lucro_valores, label='Lucro = -2p^2 + 50.4p - 10')\n",
    "plt.title('Gráfico da função de lucro em relação a p')\n",
    "plt.xlabel('p')\n",
    "plt.ylabel('Lucro')\n",
    "plt.legend()\n",
    "plt.grid(True)\n",
    "plt.axhline(0, color='black',linewidth=0.5)\n",
    "plt.axvline(0, color='black',linewidth=0.5)\n",
    "plt.show()\n"
   ]
  },
  {
   "cell_type": "code",
   "execution_count": null,
   "id": "5f3adf28",
   "metadata": {},
   "outputs": [],
   "source": [
    "from sympy import symbols, diff, solve\n",
    "\n",
    "# Definindo o símbolo\n",
    "p = symbols('p')\n",
    "\n",
    "# Definindo a função de lucro\n",
    "funcao_lucro = -2 * p**2 + 50.4 * p - 10\n",
    "\n",
    "# Encontrando a derivada da função de lucro em relação a p\n",
    "derivada_lucro = diff(funcao_lucro, p)\n",
    "\n",
    "# Encontrando o valor de p que maximiza o lucro (onde a derivada é zero)\n",
    "valor_max_lucro = solve(derivada_lucro, p)\n",
    "print(\"O valor de p que maximiza o lucro é:\", valor_max_lucro)"
   ]
  },
  {
   "cell_type": "markdown",
   "id": "df160718",
   "metadata": {},
   "source": [
    "#  ESTATÍSTICA DESCRITIVA"
   ]
  },
  {
   "cell_type": "code",
   "execution_count": null,
   "id": "5b985875",
   "metadata": {
    "scrolled": true
   },
   "outputs": [],
   "source": [
    "# Módulos\n",
    "import numpy as np\n",
    "import pandas as pd\n",
    "\n",
    "# Dados\n",
    "df_dados_paises = pd.read_csv('dados.csv', sep=';', encoding='latin1', decimal=',')\n",
    "df_dados_paises.head(30)\n"
   ]
  },
  {
   "cell_type": "code",
   "execution_count": null,
   "id": "46c9e680",
   "metadata": {},
   "outputs": [],
   "source": [
    "df_dados_paises.groupby('pais').agg(n=pd.NamedAgg('pais', 'count')).reset_index()"
   ]
  },
  {
   "cell_type": "code",
   "execution_count": null,
   "id": "920be1c8",
   "metadata": {},
   "outputs": [],
   "source": [
    "df_dados_paises.groupby('pais')['idh'].apply(lambda x: x.mode().iloc[0]).to_frame().reset_index()"
   ]
  },
  {
   "cell_type": "code",
   "execution_count": null,
   "id": "bd1ab936",
   "metadata": {},
   "outputs": [],
   "source": [
    "df_percentis = df_dados_paises.groupby('pais')['idh'] \\\n",
    "    .apply(lambda x: x.quantile([0.05, 0.25, 0.5, 0.75, 0.95])) \\\n",
    "    .reset_index() \\\n",
    "    .rename(columns={'level_1': 'percentil'})\n",
    "\n",
    "df_percentis[df_percentis['pais'] ==\"Alemanha\"]"
   ]
  },
  {
   "cell_type": "code",
   "execution_count": null,
   "id": "83a73d89",
   "metadata": {},
   "outputs": [],
   "source": [
    "df_dados_paises.groupby('pais') \\\n",
    "    .agg(variancia_idh=pd.NamedAgg('idh', 'var'), dp_idh=pd.NamedAgg('idh', 'std')) \\\n",
    "    .reset_index()"
   ]
  },
  {
   "cell_type": "code",
   "execution_count": null,
   "id": "4538130b",
   "metadata": {},
   "outputs": [],
   "source": [
    "df = pd.read_csv('dados.csv', sep=';', encoding='latin1', decimal=',')"
   ]
  },
  {
   "cell_type": "code",
   "execution_count": null,
   "id": "53c0e489",
   "metadata": {},
   "outputs": [],
   "source": [
    "# Cálculo da variância e desvio padrão do IDH por país\n",
    "resultados_variancia_desvio = df.groupby('pais') \\\n",
    "    .agg(variancia_idh=pd.NamedAgg('idh', 'var'), dp_idh=pd.NamedAgg('idh', 'std')) \\\n",
    "    .reset_index()\n",
    "\n",
    "# Cálculo das estatísticas de média, mediana, máximo e mínimo do IDH por país\n",
    "resultados_estatisticas = df.groupby('pais').agg(\n",
    "    media=('idh', 'mean'),\n",
    "    mediana=('idh', 'median'),\n",
    "    maximo=('idh', 'max'),\n",
    "    minimo=('idh', 'min')\n",
    ")\n",
    "\n",
    "# Resultados da variância e do desvio padrão do IDH por país\n",
    "print(resultados_variancia_desvio)\n",
    "\n",
    "# Resultados das estatísticas descritivas do IDH por país\n",
    "print(resultados_estatisticas)\n",
    "\n",
    "# Cálculo dos quartis para o IDH de todos os países\n",
    "quartis_por_pais = df.groupby('pais')['idh'].quantile([0.25, 0.75])\n",
    "\n",
    "quartis_por_pais\n"
   ]
  },
  {
   "cell_type": "code",
   "execution_count": null,
   "id": "05f097bf",
   "metadata": {},
   "outputs": [],
   "source": []
  }
 ],
 "metadata": {
  "kernelspec": {
   "display_name": "Python 3 (ipykernel)",
   "language": "python",
   "name": "python3"
  },
  "language_info": {
   "codemirror_mode": {
    "name": "ipython",
    "version": 3
   },
   "file_extension": ".py",
   "mimetype": "text/x-python",
   "name": "python",
   "nbconvert_exporter": "python",
   "pygments_lexer": "ipython3",
   "version": "3.9.13"
  }
 },
 "nbformat": 4,
 "nbformat_minor": 5
}
