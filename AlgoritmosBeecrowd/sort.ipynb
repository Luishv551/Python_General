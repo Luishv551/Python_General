{
 "cells": [
  {
   "cell_type": "code",
   "execution_count": null,
   "metadata": {},
   "outputs": [],
   "source": [
    "# Ordene uma string sem utilizar metodos built in\n",
    "\n",
    "# tentativa 01\n",
    "\n",
    "string = \"14352698\"\n",
    "\n",
    "lista = list(string)\n",
    "\n",
    "for i in range(len(lista) - 1):\n",
    "\n",
    "    for j in range(i + 1, len(lista)):\n",
    "\n",
    "        if lista[i] > lista[j]:\n",
    "\n",
    "            lista[i], lista[j] = lista[j], lista[i]\n",
    "\n",
    "            print(lista)"
   ]
  },
  {
   "cell_type": "code",
   "execution_count": null,
   "metadata": {},
   "outputs": [],
   "source": [
    "# Tentativa 02 com otimização\n",
    "\n",
    "string = \"14352698\"\n",
    "lista = list(string)\n",
    "\n",
    "for i in range(len(lista) - 1):\n",
    "    for j in range(i + 1, len(lista)):\n",
    "        if lista[i] > lista[j]:\n",
    "            lista[i], lista[j] = lista[j], lista[i]  # Troca se o elemento em i é maior que em j\n",
    "            print(lista)  # Imprime a lista após a troca\n",
    "            break  # Interrompe o loop interno assim que a troca é feita\n",
    "\n",
    "print(lista)  # Imprime a lista final ordenada"
   ]
  },
  {
   "cell_type": "code",
   "execution_count": null,
   "metadata": {},
   "outputs": [],
   "source": [
    "# Tentativa 03 com ASCII\n",
    "\n",
    "string = \"14352698\"\n",
    "lista = list(string)\n",
    "\n",
    "for i in range(len(lista) - 1):\n",
    "    for j in range(i + 1, len(lista)):\n",
    "        if ord(lista[i]) > ord(lista[j]):\n",
    "            lista[i], lista[j] = lista[j], lista[i]\n",
    "            print(lista)\n",
    "\n",
    "print(lista)\n"
   ]
  }
 ],
 "metadata": {
  "language_info": {
   "name": "python"
  }
 },
 "nbformat": 4,
 "nbformat_minor": 2
}
