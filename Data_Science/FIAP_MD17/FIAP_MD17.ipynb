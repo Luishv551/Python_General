{
  "nbformat": 4,
  "nbformat_minor": 0,
  "metadata": {
    "colab": {
      "provenance": [],
      "toc_visible": true
    },
    "kernelspec": {
      "name": "python3",
      "display_name": "Python 3"
    },
    "language_info": {
      "name": "python"
    }
  },
  "cells": [
    {
      "cell_type": "code",
      "execution_count": 1,
      "metadata": {
        "id": "ZfevGFckZByA"
      },
      "outputs": [],
      "source": [
        "# modulos\n",
        "from itertools import product, permutations, combinations, combinations_with_replacement\n",
        "from math import factorial\n",
        "import numpy as np\n",
        "import pandas as pd\n",
        "import datetime\n",
        "import matplotlib.pyplot as plt\n",
        "import seaborn as sns\n",
        "from scipy.stats import binom, poisson, expon, norm\n",
        "\n",
        "# dados\n",
        "dados_acidentes = pd.read_csv('acidentes.csv')\n",
        "dados_vinho = pd.read_csv('vinho_nacional.csv', sep=';', decimal=',')"
      ]
    },
    {
      "cell_type": "code",
      "source": [
        "# criar a formula no python\n",
        "def formula_permutacao(n, k, repeticao=False):\n",
        "    if repeticao is True:\n",
        "        #usamos o fatorial pois caso possa repetir os numeros na senha, o problema seria so fazer o fatorial da quantidade de digitos, mas como nao pode repetir usamos a formula de COMBINACAO sem repeticao\n",
        "        return n ** k\n",
        "    else:\n",
        "        return factorial(n) / factorial(n - k)\n",
        "        #vai retornar a quantidade de senhas possiveis para serem formadas\n",
        "\n",
        "# obter o numero de permutacoes\n",
        "elementos = 10\n",
        "escolhas = 6\n",
        "formula_permutacao(n=elementos, k=escolhas, repeticao=False)\n"
      ],
      "metadata": {
        "colab": {
          "base_uri": "https://localhost:8080/"
        },
        "id": "30-kUhieZtLA",
        "outputId": "83a3de6e-4e79-4427-8049-be776c52e5a6"
      },
      "execution_count": 2,
      "outputs": [
        {
          "output_type": "execute_result",
          "data": {
            "text/plain": [
              "151200.0"
            ]
          },
          "metadata": {},
          "execution_count": 2
        }
      ]
    },
    {
      "cell_type": "code",
      "source": [
        "# POSSIVEIS COMBINACOES DA MEGA SENA\n",
        "def formula_combinacao(n, k, repeticao=False):\n",
        "    if repeticao is False:\n",
        "        return factorial(n) / (factorial(k) * factorial(n - k))\n",
        "        #formula do exemplo anterior, quando nao puder repetir\n",
        "    else:\n",
        "        return factorial(n + k - 1) / (factorial(k) * factorial(n - 1))\n",
        "\n",
        "# aplicar a formula\n",
        "n = 60\n",
        "k = 6\n",
        "formula_combinacao(n, k)\n"
      ],
      "metadata": {
        "colab": {
          "base_uri": "https://localhost:8080/"
        },
        "id": "zfIw5wKFa-Wb",
        "outputId": "6067b6b2-9141-4535-87f9-fd10d621f988"
      },
      "execution_count": 3,
      "outputs": [
        {
          "output_type": "execute_result",
          "data": {
            "text/plain": [
              "50063860.0"
            ]
          },
          "metadata": {},
          "execution_count": 3
        }
      ]
    },
    {
      "cell_type": "code",
      "source": [
        "# ajuste da data\n",
        "dados_acidentes['data_acidente'] = pd.to_datetime(dados_acidentes['data_acidente'], errors='coerce')\n",
        "dados_acidentes['data_acidente_mensal'] = dados_acidentes['data_acidente'].dt.strftime('%Y-%m')\n",
        "\n",
        "# contagem do numero de acidentes por dia\n",
        "dados_acidentes_mensal = dados_acidentes.groupby('data_acidente_mensal').size().to_frame('n').reset_index()\n",
        "\n",
        "# ordenar por data_acidente_mensal em ordem crescente\n",
        "dados_acidentes_mensal = dados_acidentes_mensal.sort_values(by='n', ascending=True)\n",
        "\n",
        "print(dados_acidentes_mensal)\n"
      ],
      "metadata": {
        "colab": {
          "base_uri": "https://localhost:8080/"
        },
        "id": "X7Gk-A6xbTLV",
        "outputId": "15b2f46c-ff84-4850-9466-dab02a14e0ff"
      },
      "execution_count": 8,
      "outputs": [
        {
          "output_type": "stream",
          "name": "stdout",
          "text": [
            "   data_acidente_mensal   n\n",
            "0               2013-07   1\n",
            "49              2018-01   2\n",
            "42              2017-06   2\n",
            "43              2017-07   3\n",
            "39              2017-03   3\n",
            "53              2018-05   3\n",
            "20              2015-08   4\n",
            "25              2016-01   4\n",
            "21              2015-09   4\n",
            "28              2016-04   5\n",
            "52              2018-04   5\n",
            "48              2017-12   5\n",
            "45              2017-09   5\n",
            "37              2017-01   6\n",
            "41              2017-05   6\n",
            "44              2017-08   6\n",
            "24              2015-12   6\n",
            "23              2015-11   6\n",
            "6               2014-06   6\n",
            "7               2014-07   6\n",
            "18              2015-06   6\n",
            "17              2015-05   7\n",
            "47              2017-11   7\n",
            "50              2018-02   7\n",
            "12              2014-12   7\n",
            "9               2014-09   7\n",
            "19              2015-07   8\n",
            "40              2017-04   8\n",
            "5               2014-05   8\n",
            "35              2016-11   8\n",
            "13              2015-01   8\n",
            "14              2015-02   8\n",
            "11              2014-11   8\n",
            "36              2016-12   9\n",
            "10              2014-10   9\n",
            "4               2014-04  10\n",
            "26              2016-02  10\n",
            "15              2015-03  10\n",
            "31              2016-07  11\n",
            "3               2014-03  11\n",
            "46              2017-10  11\n",
            "16              2015-04  11\n",
            "22              2015-10  12\n",
            "51              2018-03  12\n",
            "8               2014-08  12\n",
            "2               2014-02  12\n",
            "34              2016-10  12\n",
            "27              2016-03  13\n",
            "33              2016-09  14\n",
            "38              2017-02  14\n",
            "1               2014-01  15\n",
            "30              2016-06  15\n",
            "29              2016-05  15\n",
            "32              2016-08  18\n"
          ]
        }
      ]
    },
    {
      "cell_type": "code",
      "source": [
        "import matplotlib.pyplot as plt\n",
        "\n",
        "# histograma com matplotlib\n",
        "plt.hist(dados_acidentes_mensal['n'], alpha=0.7, rwidth=0.85)\n",
        "plt.xlabel('n')\n",
        "plt.ylabel('Frequencia')\n",
        "plt.show()\n"
      ],
      "metadata": {
        "colab": {
          "base_uri": "https://localhost:8080/",
          "height": 449
        },
        "id": "-9204W9ZcfPI",
        "outputId": "8cb65f87-3fdd-4620-c40a-615e465b5d11"
      },
      "execution_count": 9,
      "outputs": [
        {
          "output_type": "display_data",
          "data": {
            "text/plain": [
              "<Figure size 640x480 with 1 Axes>"
            ],
            "image/png": "[encoded data removed]"
          },
          "metadata": {}
        }
      ]
    },
    {
      "cell_type": "code",
      "source": [
        "import seaborn as sns\n",
        "\n",
        "# histograma com seaborn\n",
        "sns.displot(dados_acidentes_mensal['n'])\n",
        "plt.ylabel('Frequencia')\n",
        "plt.show()\n"
      ],
      "metadata": {
        "colab": {
          "base_uri": "https://localhost:8080/",
          "height": 506
        },
        "id": "wb67CMFPc3V-",
        "outputId": "1ffe5849-038f-4076-8c6b-0f626b660fff"
      },
      "execution_count": 10,
      "outputs": [
        {
          "output_type": "display_data",
          "data": {
            "text/plain": [
              "<Figure size 500x500 with 1 Axes>"
            ],
            "image/png": "[encoded data removed]"
          },
          "metadata": {}
        }
      ]
    },
    {
      "cell_type": "code",
      "source": [
        "n = 50\n",
        "p = 0.05\n",
        "x = 5\n",
        "result_1 = binom.pmf(k=x, n=n, p=p)\n",
        "print(\"Problem 1 Result:\", result_1)\n"
      ],
      "metadata": {
        "id": "K95DnpEIc-26"
      },
      "execution_count": null,
      "outputs": []
    },
    {
      "cell_type": "markdown",
      "source": [
        "n = 50\n",
        "p = 0.05\n",
        "x = 5\n",
        "result_1 = binom.pmf(k=x, n=n, p=p)\n",
        "print(\"Problem 1 Result:\", result_1)\n"
      ],
      "metadata": {
        "id": "nIrLh6tvduJc"
      }
    },
    {
      "cell_type": "code",
      "source": [
        "n = 70\n",
        "p = 0.02\n",
        "x = 4\n",
        "result_2 = binom.pmf(k=x, n=n, p=p)\n",
        "print(\"Problem 2 Result:\", result_2)\n"
      ],
      "metadata": {
        "id": "uqwo-tUJeNk7"
      },
      "execution_count": null,
      "outputs": []
    },
    {
      "cell_type": "code",
      "source": [
        "import numpy as np\n",
        "\n",
        "n = 200\n",
        "p = 0.03\n",
        "x = [7, 8, 9, 10]\n",
        "result_3 = np.sum(binom.pmf(k=x, n=n, p=p))\n",
        "print(\"Problem 3 Result:\", result_3)\n"
      ],
      "metadata": {
        "id": "SGOkxxbueRRi"
      },
      "execution_count": null,
      "outputs": []
    },
    {
      "cell_type": "code",
      "source": [
        "# obter media mensal\n",
        "media_mensal = np.mean(dados_acidentes_mensal['n'])\n",
        "\n",
        "# probabilidade 7 acidentes\n",
        "poisson.pmf(k=7, mu=media_mensal)\n",
        "\n",
        "# probabilidade 4 a 6 acidentes\n",
        "n_acidentes = np.arange(4, 7)\n",
        "np.sum(poisson.pmf(k=n_acidentes, mu=media_mensal))\n"
      ],
      "metadata": {
        "colab": {
          "base_uri": "https://localhost:8080/"
        },
        "id": "RLa8TZ1mee6i",
        "outputId": "ed22e05b-ee18-42bf-80cb-2831569295de"
      },
      "execution_count": 11,
      "outputs": [
        {
          "output_type": "execute_result",
          "data": {
            "text/plain": [
              "0.2555945240092576"
            ]
          },
          "metadata": {},
          "execution_count": 11
        }
      ]
    },
    {
      "cell_type": "code",
      "source": [
        "aposentadoria = 65\n",
        "x = aposentadoria + 15\n",
        "tempo_medio_vida = 70\n",
        "result_1 = 1 - expon.cdf(x=x, scale=tempo_medio_vida)\n",
        "print(\"Problem 1 Result:\", result_1)\n"
      ],
      "metadata": {
        "colab": {
          "base_uri": "https://localhost:8080/"
        },
        "id": "OVyJvp0VfGD7",
        "outputId": "03e0020e-8b5f-41d4-f61d-4e03559bed05"
      },
      "execution_count": 12,
      "outputs": [
        {
          "output_type": "stream",
          "name": "stdout",
          "text": [
            "Problem 1 Result: 0.31890655732397044\n"
          ]
        }
      ]
    },
    {
      "cell_type": "code",
      "source": [
        "x = 3\n",
        "tempo_medio_vida = 2\n",
        "result_2 = 1 - expon.cdf(x=x, scale=tempo_medio_vida)\n",
        "print(\"Problem 2 Result:\", result_2)\n"
      ],
      "metadata": {
        "colab": {
          "base_uri": "https://localhost:8080/"
        },
        "id": "yGdDbO3pfJLN",
        "outputId": "2974e7d5-0e68-4838-d5db-44b8a40b819b"
      },
      "execution_count": 13,
      "outputs": [
        {
          "output_type": "stream",
          "name": "stdout",
          "text": [
            "Problem 2 Result: 0.2231301601484298\n"
          ]
        }
      ]
    },
    {
      "cell_type": "code",
      "source": [
        "tempo_medio_vida = 1\n",
        "x_3anos = 3\n",
        "x_5anos = 5\n",
        "result_3 = expon.cdf(x=x_5anos, scale=tempo_medio_vida) - expon.cdf(x=x_3anos, scale=tempo_medio_vida)\n",
        "print(\"Problem 3 Result:\", result_3)\n"
      ],
      "metadata": {
        "colab": {
          "base_uri": "https://localhost:8080/"
        },
        "id": "x4Pm8c0ffMXo",
        "outputId": "b7f9a7c5-6fc3-4ec9-ba22-88e20d1ac73b"
      },
      "execution_count": 14,
      "outputs": [
        {
          "output_type": "stream",
          "name": "stdout",
          "text": [
            "Problem 3 Result: 0.043049121368778476\n"
          ]
        }
      ]
    },
    {
      "cell_type": "code",
      "source": [
        "# media e desvio padrao\n",
        "media_mensal_vinho = np.mean(dados_vinho['vendas_vinho_nacional'])\n",
        "dp_mensal_vinho = np.std(dados_vinho['vendas_vinho_nacional'])\n",
        "media_mensal_vinho, dp_mensal_vinho\n"
      ],
      "metadata": {
        "colab": {
          "base_uri": "https://localhost:8080/"
        },
        "id": "U6IxBiIbflTu",
        "outputId": "c0bd41d9-6900-4316-e532-0afba6c1dc18"
      },
      "execution_count": 15,
      "outputs": [
        {
          "output_type": "execute_result",
          "data": {
            "text/plain": [
              "(339.05, 7.116705698565875)"
            ]
          },
          "metadata": {},
          "execution_count": 15
        }
      ]
    },
    {
      "cell_type": "code",
      "source": [
        "# problema 1\n",
        "p_330 = norm.cdf(x=330, loc=media_mensal_vinho, scale=dp_mensal_vinho)\n",
        "p_370 = norm.cdf(x=370, loc=media_mensal_vinho, scale=dp_mensal_vinho)\n",
        "result_problem_1 = p_370 - p_330\n",
        "print(\"Problem 1 Result:\", result_problem_1)\n"
      ],
      "metadata": {
        "colab": {
          "base_uri": "https://localhost:8080/"
        },
        "id": "sKbJqr-cfnAj",
        "outputId": "4c71b39c-906c-4ef5-c1cb-1696811f35e2"
      },
      "execution_count": 16,
      "outputs": [
        {
          "output_type": "stream",
          "name": "stdout",
          "text": [
            "Problem 1 Result: 0.8982454369037137\n"
          ]
        }
      ]
    },
    {
      "cell_type": "code",
      "source": [
        "# problema 2\n",
        "p_370 = norm.cdf(x=370, loc=media_mensal_vinho, scale=dp_mensal_vinho)\n",
        "result_problem_2 = 1 - p_370\n",
        "print(\"Problem 2 Result:\", result_problem_2)\n"
      ],
      "metadata": {
        "id": "0zhZ5BQ8fvwY",
        "outputId": "b6ef91cc-e7ca-4868-cebd-0ef9d1e1a1d9",
        "colab": {
          "base_uri": "https://localhost:8080/"
        }
      },
      "execution_count": 17,
      "outputs": [
        {
          "output_type": "stream",
          "name": "stdout",
          "text": [
            "Problem 2 Result: 6.840408958486144e-06\n"
          ]
        }
      ]
    }
  ]
}