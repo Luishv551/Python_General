{
  "nbformat": 4,
  "nbformat_minor": 0,
  "metadata": {
    "colab": {
      "provenance": []
    },
    "kernelspec": {
      "name": "python3",
      "display_name": "Python 3"
    },
    "language_info": {
      "name": "python"
    }
  },
  "cells": [
    {
      "cell_type": "code",
      "execution_count": 1,
      "metadata": {
        "colab": {
          "base_uri": "https://localhost:8080/"
        },
        "id": "WTIen5CcK4iB",
        "outputId": "b4258420-6905-4e0d-aba9-64c84cbcd37f"
      },
      "outputs": [
        {
          "output_type": "stream",
          "name": "stdout",
          "text": [
            "Distancias a partir de A: {'A': 0, 'B': 3, 'C': 1, 'D': 3}\n"
          ]
        }
      ],
      "source": [
        "\"\"\"Q.1\n",
        "O código do algoritmo de Dijkstra a seguir está incompleto. Complete as partes faltantes (indicadas por # TODO) para calcular os caminhos mais curtos a partir do nó inicial A.\"\"\"\n",
        "\n",
        "import heapq\n",
        "\n",
        "def dijkstra(graph, start):\n",
        "    distances = {node: float('inf') for node in graph}  # Inicializa as distâncias\n",
        "    distances[start] = 0\n",
        "    priority_queue = [(0, start)]  # (distância, nó inicial)\n",
        "\n",
        "    while priority_queue:\n",
        "        current_distance, current_node = heapq.heappop(priority_queue)\n",
        "\n",
        "        # Ignorar se a distância não for a menor conhecida\n",
        "        if current_distance > distances[current_node]:\n",
        "            continue\n",
        "\n",
        "        # TODO: Iterar pelos vizinhos do nó atual\n",
        "        for neighbor, weight in graph[current_node].items():\n",
        "            # TODO: Atualizar a distância para os vizinhos\n",
        "            new_distance = current_distance + weight\n",
        "            if new_distance < distances[neighbor]:\n",
        "                # TODO: Atualizar a distância e adicionar o nó na fila de prioridade\n",
        "                distances[neighbor] = new_distance\n",
        "                heapq.heappush(priority_queue, (new_distance, neighbor))\n",
        "\n",
        "    return distances\n",
        "\n",
        "# Grafo de exemplo\n",
        "graph = {\n",
        "    'A': {'B': 3, 'C': 1},\n",
        "    'B': {'A': 3, 'C': 7, 'D': 5},\n",
        "    'C': {'A': 1, 'B': 7, 'D': 2},\n",
        "    'D': {'B': 5, 'C': 2}\n",
        "}\n",
        "\n",
        "# TODO: Imprimir o resultado do algoritmo para o nó inicial 'A'\n",
        "result = dijkstra(graph, 'A')\n",
        "print(\"Distancias a partir de A:\", result)"
      ]
    },
    {
      "cell_type": "code",
      "source": [
        "\"\"\"Q.2\n",
        "O código abaixo implementa o algoritmo de Dijkstra, mas contém 3 erros principais. Leia o código, identifique os problemas e faça as correções necessárias para que ele funcione corretamente.\"\"\"\n",
        "\n",
        "import heapq\n",
        "\n",
        "def dijkstra(graph, start):\n",
        "    distances = {node: float('inf') for node in graph}  # Inicializa as distâncias\n",
        "    distances[start] = 0\n",
        "    priority_queue = [(0, start)]  # (distância, nó inicial)\n",
        "\n",
        "    while priority_queue:\n",
        "        current_distance, current_node = heapq.heappop(priority_queue)\n",
        "\n",
        "        # Verifica se a distância atual é maior que a registrada (ERRADO)\n",
        "        if current_distance < distances[current_node]:  # Comparação invertida\n",
        "            continue\n",
        "\n",
        "        for neighbor, weight in graph[current_node].items():\n",
        "            # Calcula a distância, mas ignora o peso do caminho (ERRADO)\n",
        "            new_distance = current_distance  # Deve somar o peso do caminho\n",
        "\n",
        "            # Atualiza a distância sem verificar se é menor (ERRADO)\n",
        "            distances[neighbor] = new_distance\n",
        "            heapq.heappush(priority_queue, (new_distance, neighbor))\n",
        "\n",
        "    return distances\n",
        "\n",
        "# Grafo de exemplo\n",
        "graph = {\n",
        "    'A': {'B': 2, 'C': 4},\n",
        "    'B': {'A': 2, 'C': 1, 'D': 7},\n",
        "    'C': {'A': 4, 'B': 1, 'D': 3},\n",
        "    'D': {'B': 7, 'C': 3}\n",
        "}\n",
        "\n",
        "# Executando o algoritmo\n",
        "start_node = 'A'\n",
        "shortest_distances = dijkstra(graph, start_node)\n",
        "\n",
        "# Exibindo os resultados\n",
        "print(f\"Menores distâncias a partir do nó {start_node}:\")\n",
        "for node, distance in shortest_distances.items():\n",
        "    print(f\"{node}: {distance}\")"
      ],
      "metadata": {
        "id": "EalMdvuHWR7-"
      },
      "execution_count": null,
      "outputs": []
    },
    {
      "cell_type": "code",
      "source": [
        "import heapq\n",
        "\n",
        "def dijkstra(graph, start):\n",
        "   distances = {node: float('inf') for node in graph}\n",
        "   distances[start] = 0\n",
        "   priority_queue = [(0, start)]\n",
        "\n",
        "   while priority_queue:\n",
        "       current_distance, current_node = heapq.heappop(priority_queue)\n",
        "\n",
        "       if current_distance > distances[current_node]:\n",
        "           continue\n",
        "\n",
        "       for neighbor, weight in graph[current_node].items():\n",
        "           new_distance = current_distance + weight\n",
        "\n",
        "           if new_distance < distances[neighbor]:\n",
        "               distances[neighbor] = new_distance\n",
        "               heapq.heappush(priority_queue, (new_distance, neighbor))\n",
        "\n",
        "   return distances\n",
        "\n",
        "graph = {\n",
        "   'A': {'B': 4, 'C': 2},\n",
        "   'B': {'D': 3},\n",
        "   'C': {'B': 1, 'D': 5},\n",
        "   'D': {}\n",
        "}\n",
        "\n",
        "result = dijkstra(graph, 'A')\n",
        "print(result)"
      ],
      "metadata": {
        "colab": {
          "base_uri": "https://localhost:8080/"
        },
        "id": "QLSOEGdzW2Fd",
        "outputId": "9a005796-83fc-403e-925e-24e8ad80c5af"
      },
      "execution_count": 4,
      "outputs": [
        {
          "output_type": "stream",
          "name": "stdout",
          "text": [
            "{'A': 0, 'B': 3, 'C': 2, 'D': 6}\n"
          ]
        }
      ]
    }
  ]
}