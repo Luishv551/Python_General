{
 "cells": [
  {
   "cell_type": "code",
   "execution_count": 14,
   "metadata": {},
   "outputs": [
    {
     "name": "stdout",
     "output_type": "stream",
     "text": [
      "False\n"
     ]
    }
   ],
   "source": [
    "def criadict(string):\n",
    "\n",
    "        dict = {}    \n",
    "\n",
    "        for c in string:\n",
    "            if c in dict:\n",
    "                dict[c] += 1\n",
    "            else:\n",
    "                dict[c] = 1\n",
    "        return dict\n",
    "\n",
    "def permutacao (str1, str2):\n",
    "\n",
    "    dict1 = criadict(str1)\n",
    "    dict2 = criadict(str2)\n",
    "\n",
    "    if dict1 == dict2:\n",
    "        return True\n",
    "    else:\n",
    "        return False\n",
    "\n",
    "# TESTE\n",
    "str1 = \"abca\"\n",
    "str2 = \"baca\"\n",
    "\n",
    "print(permutacao(str1, str2))"
   ]
  }
 ],
 "metadata": {
  "kernelspec": {
   "display_name": "base",
   "language": "python",
   "name": "python3"
  },
  "language_info": {
   "codemirror_mode": {
    "name": "ipython",
    "version": 3
   },
   "file_extension": ".py",
   "mimetype": "text/x-python",
   "name": "python",
   "nbconvert_exporter": "python",
   "pygments_lexer": "ipython3",
   "version": "3.9.13"
  }
 },
 "nbformat": 4,
 "nbformat_minor": 2
}
